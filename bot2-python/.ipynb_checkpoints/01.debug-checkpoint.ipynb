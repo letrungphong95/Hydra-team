{
 "cells": [
  {
   "cell_type": "code",
   "execution_count": 2,
   "metadata": {},
   "outputs": [],
   "source": [
    "\n",
    "import logging\n",
    "import pprint\n",
    "from rasa_nlu.training_data import load_data\n",
    "from rasa_nlu import config\n",
    "from rasa_nlu.model import Trainer\n",
    "from rasa_nlu.model import Interpreter\n",
    "from rasa_nlu.test import run_evaluation\n",
    "\n",
    "\n",
    "logfile = 'nlu_model.log'\n",
    "\n",
    "\n",
    "def train_nlu(data_path, configs, model_path):\n",
    "    logging.basicConfig(filename=logfile, level=logging.DEBUG)\n",
    "    training_data = load_data(data_path)\n",
    "    trainer = Trainer(config.load(configs))\n",
    "    trainer.train(training_data)\n",
    "    model_directory = trainer.persist(model_path, project_name='current', fixed_model_name='nlu')\n",
    "    run_evaluation(data_path, model_directory)\n",
    "\n",
    "\n",
    "def run_nlu(nlu_path):\n",
    "    logging.basicConfig(filename=logfile, level=logging.DEBUG)\n",
    "    interpreter = Interpreter.load(nlu_path)\n",
    "    pprint.pprint(interpreter.parse(\"Share some latest news around the world?\"))\n",
    "    pprint.pprint(interpreter.parse(\"What is going on in technology?\"))\n",
    "    pprint.pprint(interpreter.parse(\"What is going on in education?\"))\n",
    "\n"
   ]
  },
  {
   "cell_type": "code",
   "execution_count": 6,
   "metadata": {},
   "outputs": [
    {
     "name": "stderr",
     "output_type": "stream",
     "text": [
      "Epochs: 100%|████████████████████████████████████████████████| 300/300 [00:01<00:00, 156.75it/s, loss=0.086, acc=1.000]\n",
      "100%|█████████████████████████████████████████████████████████████████████████████████| 25/25 [00:00<00:00, 416.55it/s]\n"
     ]
    }
   ],
   "source": [
    "train_nlu('./data/nlu.md', 'config.yml', './models')"
   ]
  },
  {
   "cell_type": "code",
   "execution_count": 12,
   "metadata": {},
   "outputs": [
    {
     "name": "stdout",
     "output_type": "stream",
     "text": [
      "{'entities': [],\n",
      " 'intent': {'confidence': 0.9596114158630371, 'name': 'greet'},\n",
      " 'intent_ranking': [{'confidence': 0.9596114158630371, 'name': 'greet'},\n",
      "                    {'confidence': 0.07848130166530609, 'name': 'fine_normal'},\n",
      "                    {'confidence': 0.0, 'name': 'fine_ask'},\n",
      "                    {'confidence': 0.0, 'name': 'thanks'},\n",
      "                    {'confidence': 0.0, 'name': 'news'},\n",
      "                    {'confidence': 0.0, 'name': 'bye'}],\n",
      " 'text': 'hello'}\n"
     ]
    }
   ],
   "source": [
    "pprint.pprint(interpreter.parse(\"hello\"))"
   ]
  },
  {
   "cell_type": "code",
   "execution_count": 11,
   "metadata": {},
   "outputs": [
    {
     "name": "stdout",
     "output_type": "stream",
     "text": [
      "{'entities': [{'confidence': 0.8085453627355813,\n",
      "               'end': 39,\n",
      "               'entity': 'category',\n",
      "               'extractor': 'CRFEntityExtractor',\n",
      "               'start': 34,\n",
      "               'value': 'world'}],\n",
      " 'intent': {'confidence': 0.9734202027320862, 'name': 'news'},\n",
      " 'intent_ranking': [{'confidence': 0.9734202027320862, 'name': 'news'},\n",
      "                    {'confidence': 0.0220342930406332, 'name': 'bye'},\n",
      "                    {'confidence': 0.009631778113543987, 'name': 'fine_normal'},\n",
      "                    {'confidence': 0.0, 'name': 'greet'},\n",
      "                    {'confidence': 0.0, 'name': 'thanks'},\n",
      "                    {'confidence': 0.0, 'name': 'fine_ask'}],\n",
      " 'text': 'Share some latest news around the world?'}\n",
      "{'entities': [{'confidence': 0.8493097579580206,\n",
      "               'end': 30,\n",
      "               'entity': 'category',\n",
      "               'extractor': 'CRFEntityExtractor',\n",
      "               'start': 20,\n",
      "               'value': 'technology'}],\n",
      " 'intent': {'confidence': 0.9731467366218567, 'name': 'news'},\n",
      " 'intent_ranking': [{'confidence': 0.9731467366218567, 'name': 'news'},\n",
      "                    {'confidence': 0.021110713481903076, 'name': 'thanks'},\n",
      "                    {'confidence': 0.009781655855476856, 'name': 'bye'},\n",
      "                    {'confidence': 0.0, 'name': 'fine_normal'},\n",
      "                    {'confidence': 0.0, 'name': 'greet'},\n",
      "                    {'confidence': 0.0, 'name': 'fine_ask'}],\n",
      " 'text': 'What is going on in technology?'}\n",
      "{'entities': [{'confidence': 0.7107561824386518,\n",
      "               'end': 29,\n",
      "               'entity': 'category',\n",
      "               'extractor': 'CRFEntityExtractor',\n",
      "               'start': 20,\n",
      "               'value': 'education'}],\n",
      " 'intent': {'confidence': 0.9732369184494019, 'name': 'news'},\n",
      " 'intent_ranking': [{'confidence': 0.9732369184494019, 'name': 'news'},\n",
      "                    {'confidence': 0.03944440558552742, 'name': 'thanks'},\n",
      "                    {'confidence': 0.0, 'name': 'bye'},\n",
      "                    {'confidence': 0.0, 'name': 'fine_normal'},\n",
      "                    {'confidence': 0.0, 'name': 'greet'},\n",
      "                    {'confidence': 0.0, 'name': 'fine_ask'}],\n",
      " 'text': 'What is going on in education?'}\n"
     ]
    }
   ],
   "source": [
    "nlu_path = './models/current/nlu'\n",
    "# logging.basicConfig(filename=logfile, level=logging.DEBUG)\n",
    "interpreter = Interpreter.load(nlu_path)\n",
    "pprint.pprint(interpreter.parse(\"Share some latest news around the world?\"))\n",
    "pprint.pprint(interpreter.parse(\"What is going on in technology?\"))\n",
    "pprint.pprint(interpreter.parse(\"What is going on in education?\"))"
   ]
  },
  {
   "cell_type": "code",
   "execution_count": 8,
   "metadata": {},
   "outputs": [
    {
     "ename": "NameError",
     "evalue": "name 'interpreter' is not defined",
     "output_type": "error",
     "traceback": [
      "\u001b[1;31m---------------------------------------------------------------------------\u001b[0m",
      "\u001b[1;31mNameError\u001b[0m                                 Traceback (most recent call last)",
      "\u001b[1;32m<ipython-input-8-841c613105b8>\u001b[0m in \u001b[0;36m<module>\u001b[1;34m\u001b[0m\n\u001b[1;32m----> 1\u001b[1;33m \u001b[0minterpreter\u001b[0m\u001b[1;33m.\u001b[0m\u001b[0mparse\u001b[0m\u001b[1;33m(\u001b[0m\u001b[1;34m\"hello\"\u001b[0m\u001b[1;33m)\u001b[0m\u001b[1;33m\u001b[0m\u001b[1;33m\u001b[0m\u001b[0m\n\u001b[0m",
      "\u001b[1;31mNameError\u001b[0m: name 'interpreter' is not defined"
     ]
    }
   ],
   "source": [
    "interpreter.parse(\"hello\")"
   ]
  },
  {
   "cell_type": "code",
   "execution_count": null,
   "metadata": {},
   "outputs": [],
   "source": []
  }
 ],
 "metadata": {
  "kernelspec": {
   "display_name": "Python 3",
   "language": "python",
   "name": "python3"
  },
  "language_info": {
   "codemirror_mode": {
    "name": "ipython",
    "version": 3
   },
   "file_extension": ".py",
   "mimetype": "text/x-python",
   "name": "python",
   "nbconvert_exporter": "python",
   "pygments_lexer": "ipython3",
   "version": "3.6.8"
  }
 },
 "nbformat": 4,
 "nbformat_minor": 2
}
