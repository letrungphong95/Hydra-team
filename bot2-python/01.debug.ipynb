{
 "cells": [
  {
   "cell_type": "code",
   "execution_count": 1,
   "metadata": {},
   "outputs": [],
   "source": [
    "\n",
    "import logging\n",
    "import pprint\n",
    "from rasa_nlu.training_data import load_data\n",
    "from rasa_nlu import config\n",
    "from rasa_nlu.model import Trainer\n",
    "from rasa_nlu.model import Interpreter\n",
    "from rasa_nlu.test import run_evaluation\n",
    "\n",
    "\n",
    "logfile = 'nlu_model.log'\n",
    "\n",
    "\n",
    "def train_nlu(data_path, configs, model_path):\n",
    "    logging.basicConfig(filename=logfile, level=logging.DEBUG)\n",
    "    training_data = load_data(data_path)\n",
    "    trainer = Trainer(config.load(configs))\n",
    "    trainer.train(training_data)\n",
    "    model_directory = trainer.persist(model_path, project_name='current', fixed_model_name='nlu')\n",
    "    run_evaluation(data_path, model_directory)\n",
    "\n",
    "\n",
    "def run_nlu(nlu_path):\n",
    "    logging.basicConfig(filename=logfile, level=logging.DEBUG)\n",
    "    interpreter = Interpreter.load(nlu_path)\n",
    "    pprint.pprint(interpreter.parse(\"Share some latest news around the world?\"))\n",
    "    pprint.pprint(interpreter.parse(\"What is going on in technology?\"))\n",
    "    pprint.pprint(interpreter.parse(\"What is going on in education?\"))\n",
    "\n"
   ]
  },
  {
   "cell_type": "code",
   "execution_count": 2,
   "metadata": {},
   "outputs": [
    {
     "name": "stdout",
     "output_type": "stream",
     "text": [
      "\n",
      "WARNING: The TensorFlow contrib module will not be included in TensorFlow 2.0.\n",
      "For more information, please see:\n",
      "  * https://github.com/tensorflow/community/blob/master/rfcs/20180907-contrib-sunset.md\n",
      "  * https://github.com/tensorflow/addons\n",
      "If you depend on functionality not listed there, please file an issue.\n",
      "\n"
     ]
    },
    {
     "name": "stderr",
     "output_type": "stream",
     "text": [
      "Epochs: 100%|████████████████████████████████████████████████| 300/300 [00:01<00:00, 153.09it/s, loss=0.097, acc=1.000]\n",
      "100%|█████████████████████████████████████████████████████████████████████████████████| 25/25 [00:00<00:00, 374.59it/s]\n"
     ]
    }
   ],
   "source": [
    "train_nlu('./data/nlu.md', 'config.yml', './models')"
   ]
  },
  {
   "cell_type": "code",
   "execution_count": 7,
   "metadata": {},
   "outputs": [
    {
     "name": "stdout",
     "output_type": "stream",
     "text": [
      "{'entities': [],\n",
      " 'intent': {'confidence': 0.9560582637786865, 'name': 'greet'},\n",
      " 'intent_ranking': [{'confidence': 0.9560582637786865, 'name': 'greet'},\n",
      "                    {'confidence': 0.11968976259231567, 'name': 'fine_normal'},\n",
      "                    {'confidence': 0.035979028791189194, 'name': 'news'},\n",
      "                    {'confidence': 0.019852977246046066, 'name': 'thanks'},\n",
      "                    {'confidence': 0.003717956831678748, 'name': 'bye'},\n",
      "                    {'confidence': 0.0, 'name': 'fine_ask'}],\n",
      " 'text': 'hello from outside'}\n"
     ]
    }
   ],
   "source": [
    "pprint.pprint(interpreter.parse(\"hello from outside\"))"
   ]
  },
  {
   "cell_type": "code",
   "execution_count": null,
   "metadata": {},
   "outputs": [],
   "source": []
  },
  {
   "cell_type": "code",
   "execution_count": 4,
   "metadata": {},
   "outputs": [
    {
     "name": "stdout",
     "output_type": "stream",
     "text": [
      "{'entities': [{'confidence': 0.8085453627355813,\n",
      "               'end': 39,\n",
      "               'entity': 'category',\n",
      "               'extractor': 'CRFEntityExtractor',\n",
      "               'start': 34,\n",
      "               'value': 'world'}],\n",
      " 'intent': {'confidence': 0.9608546495437622, 'name': 'news'},\n",
      " 'intent_ranking': [{'confidence': 0.9608546495437622, 'name': 'news'},\n",
      "                    {'confidence': 0.0809943675994873, 'name': 'thanks'},\n",
      "                    {'confidence': 0.06043009087443352, 'name': 'fine_ask'},\n",
      "                    {'confidence': 0.015013817697763443, 'name': 'fine_normal'},\n",
      "                    {'confidence': 0.0, 'name': 'bye'},\n",
      "                    {'confidence': 0.0, 'name': 'greet'}],\n",
      " 'text': 'Share some latest news around the world?'}\n",
      "{'entities': [{'confidence': 0.8493097579580206,\n",
      "               'end': 30,\n",
      "               'entity': 'category',\n",
      "               'extractor': 'CRFEntityExtractor',\n",
      "               'start': 20,\n",
      "               'value': 'technology'}],\n",
      " 'intent': {'confidence': 0.9678173065185547, 'name': 'news'},\n",
      " 'intent_ranking': [{'confidence': 0.9678173065185547, 'name': 'news'},\n",
      "                    {'confidence': 0.09706605970859528, 'name': 'fine_ask'},\n",
      "                    {'confidence': 0.03282119333744049, 'name': 'thanks'},\n",
      "                    {'confidence': 0.0, 'name': 'bye'},\n",
      "                    {'confidence': 0.0, 'name': 'fine_normal'},\n",
      "                    {'confidence': 0.0, 'name': 'greet'}],\n",
      " 'text': 'What is going on in technology?'}\n",
      "{'entities': [{'confidence': 0.7107561824386518,\n",
      "               'end': 29,\n",
      "               'entity': 'category',\n",
      "               'extractor': 'CRFEntityExtractor',\n",
      "               'start': 20,\n",
      "               'value': 'education'}],\n",
      " 'intent': {'confidence': 0.9640560150146484, 'name': 'news'},\n",
      " 'intent_ranking': [{'confidence': 0.9640560150146484, 'name': 'news'},\n",
      "                    {'confidence': 0.11030851304531097, 'name': 'fine_ask'},\n",
      "                    {'confidence': 0.0, 'name': 'thanks'},\n",
      "                    {'confidence': 0.0, 'name': 'bye'},\n",
      "                    {'confidence': 0.0, 'name': 'fine_normal'},\n",
      "                    {'confidence': 0.0, 'name': 'greet'}],\n",
      " 'text': 'What is going on in education?'}\n"
     ]
    }
   ],
   "source": [
    "nlu_path = './models/current/nlu'\n",
    "# logging.basicConfig(filename=logfile, level=logging.DEBUG)\n",
    "interpreter = Interpreter.load(nlu_path)\n",
    "pprint.pprint(interpreter.parse(\"Share some latest news around the world?\"))\n",
    "pprint.pprint(interpreter.parse(\"What is going on in technology?\"))\n",
    "pprint.pprint(interpreter.parse(\"What is going on in education?\"))"
   ]
  },
  {
   "cell_type": "code",
   "execution_count": 4,
   "metadata": {},
   "outputs": [
    {
     "name": "stdout",
     "output_type": "stream",
     "text": [
      "{'entities': [{'confidence': 0.8085453627355813,\n",
      "               'end': 39,\n",
      "               'entity': 'category',\n",
      "               'extractor': 'CRFEntityExtractor',\n",
      "               'start': 34,\n",
      "               'value': 'world'}],\n",
      " 'intent': {'confidence': 0.9710116982460022, 'name': 'news'},\n",
      " 'intent_ranking': [{'confidence': 0.9710116982460022, 'name': 'news'},\n",
      "                    {'confidence': 0.0, 'name': 'fine_ask'},\n",
      "                    {'confidence': 0.0, 'name': 'thanks'},\n",
      "                    {'confidence': 0.0, 'name': 'fine_normal'},\n",
      "                    {'confidence': 0.0, 'name': 'greet'},\n",
      "                    {'confidence': 0.0, 'name': 'bye'}],\n",
      " 'text': 'Share some latest news around the world?'}\n",
      "{'entities': [{'confidence': 0.8493097579580206,\n",
      "               'end': 30,\n",
      "               'entity': 'category',\n",
      "               'extractor': 'CRFEntityExtractor',\n",
      "               'start': 20,\n",
      "               'value': 'technology'}],\n",
      " 'intent': {'confidence': 0.95777428150177, 'name': 'news'},\n",
      " 'intent_ranking': [{'confidence': 0.95777428150177, 'name': 'news'},\n",
      "                    {'confidence': 0.046778835356235504, 'name': 'thanks'},\n",
      "                    {'confidence': 0.010307826101779938, 'name': 'fine_normal'},\n",
      "                    {'confidence': 0.0, 'name': 'fine_ask'},\n",
      "                    {'confidence': 0.0, 'name': 'greet'},\n",
      "                    {'confidence': 0.0, 'name': 'bye'}],\n",
      " 'text': 'What is going on in technology?'}\n",
      "{'entities': [{'confidence': 0.7107561824386518,\n",
      "               'end': 29,\n",
      "               'entity': 'category',\n",
      "               'extractor': 'CRFEntityExtractor',\n",
      "               'start': 20,\n",
      "               'value': 'education'}],\n",
      " 'intent': {'confidence': 0.9518418312072754, 'name': 'news'},\n",
      " 'intent_ranking': [{'confidence': 0.9518418312072754, 'name': 'news'},\n",
      "                    {'confidence': 0.07518301904201508, 'name': 'fine_normal'},\n",
      "                    {'confidence': 0.009183250367641449, 'name': 'thanks'},\n",
      "                    {'confidence': 0.0, 'name': 'fine_ask'},\n",
      "                    {'confidence': 0.0, 'name': 'greet'},\n",
      "                    {'confidence': 0.0, 'name': 'bye'}],\n",
      " 'text': 'What is going on in education?'}\n"
     ]
    }
   ],
   "source": [
    "nlu_path = './models/current/nlu'\n",
    "# logging.basicConfig(filename=logfile, level=logging.DEBUG)\n",
    "interpreter = Interpreter.load(nlu_path)\n",
    "pprint.pprint(interpreter.parse(\"Share some latest news around the world?\"))\n",
    "pprint.pprint(interpreter.parse(\"What is going on in technology?\"))\n",
    "pprint.pprint(interpreter.parse(\"What is going on in education?\"))"
   ]
  },
  {
   "cell_type": "code",
   "execution_count": null,
   "metadata": {},
   "outputs": [],
   "source": []
  }
 ],
 "metadata": {
  "kernelspec": {
   "display_name": "Python 3",
   "language": "python",
   "name": "python3"
  },
  "language_info": {
   "codemirror_mode": {
    "name": "ipython",
    "version": 3
   },
   "file_extension": ".py",
   "mimetype": "text/x-python",
   "name": "python",
   "nbconvert_exporter": "python",
   "pygments_lexer": "ipython3",
   "version": "3.6.8"
  }
 },
 "nbformat": 4,
 "nbformat_minor": 2
}
